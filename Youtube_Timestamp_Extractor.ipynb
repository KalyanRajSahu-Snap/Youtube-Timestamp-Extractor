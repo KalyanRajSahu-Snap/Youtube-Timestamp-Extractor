{
  "nbformat": 4,
  "nbformat_minor": 0,
  "metadata": {
    "colab": {
      "provenance": []
    },
    "kernelspec": {
      "name": "python3",
      "display_name": "Python 3"
    },
    "language_info": {
      "name": "python"
    }
  },
  "cells": [
    {
      "cell_type": "code",
      "source": [
        "import smtplib\n",
        "from email.mime.multipart import MIMEMultipart\n",
        "from email.mime.text import MIMEText\n",
        "from email.mime.base import MIMEBase\n",
        "from email import encoders\n",
        "\n",
        "def send_email_with_attachment(sender_email, sender_password, receiver_email, file_path):\n",
        "    msg = MIMEMultipart()\n",
        "    msg['From'] = sender_email\n",
        "    msg['To'] = receiver_email\n",
        "    msg['Subject'] = 'YouTube Timestamps'\n",
        "\n",
        "    body = 'Please find attached the timestamps for the YouTube video.'\n",
        "    msg.attach(MIMEText(body, 'plain'))\n",
        "\n",
        "    with open(file_path, 'rb') as attachment:\n",
        "        part = MIMEBase('application', 'octet-stream')\n",
        "        part.set_payload(attachment.read())\n",
        "        encoders.encode_base64(part)\n",
        "        part.add_header('Content-Disposition', f'attachment; filename={file_path}')\n",
        "        msg.attach(part)\n",
        "\n",
        "    try:\n",
        "        server = smtplib.SMTP('smtp.gmail.com', 587)\n",
        "        server.starttls()\n",
        "\n",
        "        server.login(sender_email, sender_password)\n",
        "\n",
        "        server.sendmail(sender_email, receiver_email, msg.as_string())\n",
        "        print(\"Email sent successfully!\")\n",
        "\n",
        "    except Exception as e:\n",
        "        print(f\"Error sending email: {e}\")\n",
        "    finally:\n",
        "        server.quit()\n",
        "\n",
        "sender_email = \"jethalalfkaccnt@gmail.com\"\n",
        "sender_password = \"alra bvwu vgsn etiz\"\n",
        "receiver_email = \"cse.20bcsc23@silicon.ac.in\"\n",
        "file_path = \"/content/timestamps_selenium_no_webdriver.txt\"\n",
        "\n",
        "send_email_with_attachment(sender_email, sender_password, receiver_email, file_path)\n"
      ],
      "metadata": {
        "colab": {
          "base_uri": "https://localhost:8080/"
        },
        "id": "RK0NddS6E4zZ",
        "outputId": "cf614940-591e-4cb9-bec2-a3a4af445768"
      },
      "execution_count": null,
      "outputs": [
        {
          "output_type": "stream",
          "name": "stdout",
          "text": [
            "Email sent successfully!\n"
          ]
        }
      ]
    }
  ]
}